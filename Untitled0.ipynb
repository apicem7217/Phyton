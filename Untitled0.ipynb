{
  "nbformat": 4,
  "nbformat_minor": 0,
  "metadata": {
    "colab": {
      "provenance": [],
      "authorship_tag": "ABX9TyN5kxwYVL1iHND2ctREgA4w",
      "include_colab_link": true
    },
    "kernelspec": {
      "name": "python3",
      "display_name": "Python 3"
    },
    "language_info": {
      "name": "python"
    }
  },
  "cells": [
    {
      "cell_type": "markdown",
      "metadata": {
        "id": "view-in-github",
        "colab_type": "text"
      },
      "source": [
        "<a href=\"https://colab.research.google.com/github/apicem7217/Phyton/blob/Phyton/Untitled0.ipynb\" target=\"_parent\"><img src=\"https://colab.research.google.com/assets/colab-badge.svg\" alt=\"Open In Colab\"/></a>"
      ]
    },
    {
      "cell_type": "code",
      "execution_count": null,
      "metadata": {
        "colab": {
          "base_uri": "https://localhost:8080/"
        },
        "id": "dxQzICzNBUmm",
        "outputId": "30f539b7-015d-4d22-c0b4-904555dc6828"
      },
      "outputs": [
        {
          "output_type": "stream",
          "name": "stdout",
          "text": [
            "hello\n"
          ]
        }
      ],
      "source": [
        "print (\"hello\")"
      ]
    },
    {
      "cell_type": "code",
      "source": [],
      "metadata": {
        "id": "3nM4LOpoupZW"
      },
      "execution_count": null,
      "outputs": []
    },
    {
      "cell_type": "code",
      "source": [
        "# Aunque no es necesario usar el print en colab\n",
        "# para mostrar un resultado\n",
        "\"Hellow, word\"\n",
        "# util cuando desarrollamos o queremos ver un resultado\n",
        "# de manera muy rapida\n",
        "# pero como buena practica hay que usar siempre la funcion print\n",
        "# para mostrar un resultado\n"
      ],
      "metadata": {
        "colab": {
          "base_uri": "https://localhost:8080/",
          "height": 35
        },
        "id": "XHMMZQuPuyNn",
        "outputId": "2f168faa-9815-4560-a606-a6a451b48418"
      },
      "execution_count": 1,
      "outputs": [
        {
          "output_type": "execute_result",
          "data": {
            "text/plain": [
              "'Hellow, word'"
            ],
            "application/vnd.google.colaboratory.intrinsic+json": {
              "type": "string"
            }
          },
          "metadata": {},
          "execution_count": 1
        }
      ]
    },
    {
      "cell_type": "code",
      "source": [
        "print (\"hello, word\")"
      ],
      "metadata": {
        "colab": {
          "base_uri": "https://localhost:8080/"
        },
        "id": "sRIpapnlBhjb",
        "outputId": "94fc35fb-1f4f-4537-bec2-a51e5ea66dad"
      },
      "execution_count": null,
      "outputs": [
        {
          "output_type": "stream",
          "name": "stdout",
          "text": [
            "hello, word\n"
          ]
        }
      ]
    },
    {
      "cell_type": "markdown",
      "source": [
        "# mi primer codigo de phyton\n"
      ],
      "metadata": {
        "id": "Xx1iUPpUulMi"
      }
    }
  ]
}